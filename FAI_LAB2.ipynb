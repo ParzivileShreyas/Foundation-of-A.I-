{
  "nbformat": 4,
  "nbformat_minor": 0,
  "metadata": {
    "colab": {
      "provenance": []
    },
    "kernelspec": {
      "name": "python3",
      "display_name": "Python 3"
    },
    "language_info": {
      "name": "python"
    }
  },
  "cells": [
    {
      "cell_type": "markdown",
      "source": [
        "# FAI - LAB 2 \n",
        "LOCAL SEARCH ALGORITHM \n",
        "{Depth first search}"
      ],
      "metadata": {
        "id": "JN_pd3qpG6cG"
      }
    },
    {
      "cell_type": "code",
      "source": [
        "# Python program to print DFS traversal for complete graph\n",
        "from collections import defaultdict\n",
        " \n",
        "# This class represents a directed graph using adjacency\n",
        "# list representation\n",
        "class Graph:\n",
        " \n",
        "    # Constructor\n",
        "    def __init__(self):\n",
        " \n",
        "        # default dictionary to store graph\n",
        "        self.graph = defaultdict(list)\n",
        " \n",
        "    # function to add an edge to graph\n",
        "    def addEdge(self,u,v):\n",
        "        self.graph[u].append(v)\n",
        " \n",
        "    # A function used by DFS\n",
        "    def DFSUtil(self, v, visited):\n",
        " \n",
        "        # Mark the current node as visited and print it\n",
        "        visited[v]= True\n",
        "        print (v, end=\" \")\n",
        " \n",
        "        # Recur for all the vertices adjacent to\n",
        "        # this vertex\n",
        "        for i in self.graph[v]:\n",
        "            if visited[i] == False:\n",
        "                self.DFSUtil(i, visited)\n",
        " \n",
        " \n",
        "    # The function to do DFS traversal. It uses\n",
        "    # recursive DFSUtil()\n",
        "    def DFS(self):\n",
        "        V = len(self.graph)  #total vertices\n",
        " \n",
        "        # Mark all the vertices as not visited\n",
        "        visited =[False]*(V)\n",
        " \n",
        "        # Call the recursive helper function to print\n",
        "        # DFS traversal starting from all vertices one\n",
        "        # by one\n",
        "        for i in range(V):\n",
        "            if visited[i] == False:\n",
        "                self.DFSUtil(i, visited)\n",
        " \n",
        " \n",
        "# Driver code\n",
        "# Create a graph given in the above diagram\n",
        "g = Graph()\n",
        "g.addEdge(0, 1)\n",
        "g.addEdge(0, 2)\n",
        "g.addEdge(1, 2)\n",
        "g.addEdge(2, 0)\n",
        "g.addEdge(2, 3)\n",
        "g.addEdge(3, 3)\n",
        " \n",
        "print (\"Following is Depth First Traversal\")\n",
        "g.DFS()"
      ],
      "metadata": {
        "colab": {
          "base_uri": "https://localhost:8080/",
          "height": 0
        },
        "id": "lgktDLwOHDML",
        "outputId": "2cf32d1f-3af6-4343-9fc8-213959785ece"
      },
      "execution_count": 3,
      "outputs": [
        {
          "output_type": "stream",
          "name": "stdout",
          "text": [
            "Following is Depth First Traversal\n",
            "0 1 2 3 "
          ]
        }
      ]
    }
  ]
}