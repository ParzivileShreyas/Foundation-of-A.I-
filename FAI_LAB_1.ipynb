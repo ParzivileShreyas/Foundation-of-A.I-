{
  "nbformat": 4,
  "nbformat_minor": 0,
  "metadata": {
    "colab": {
      "provenance": [],
      "authorship_tag": "ABX9TyO0qb++z/T0LE8a81PZ7drB",
      "include_colab_link": true
    },
    "kernelspec": {
      "name": "python3",
      "display_name": "Python 3"
    },
    "language_info": {
      "name": "python"
    }
  },
  "cells": [
    {
      "cell_type": "markdown",
      "metadata": {
        "id": "view-in-github",
        "colab_type": "text"
      },
      "source": [
        "<a href=\"https://colab.research.google.com/github/ParzivileShreyas/Foundation-of-A.I-/blob/main/FAI_LAB_1.ipynb\" target=\"_parent\"><img src=\"https://colab.research.google.com/assets/colab-badge.svg\" alt=\"Open In Colab\"/></a>"
      ]
    },
    {
      "cell_type": "code",
      "execution_count": 3,
      "metadata": {
        "colab": {
          "base_uri": "https://localhost:8080/"
        },
        "id": "VXP6gEZ9r4oh",
        "outputId": "64cc62d2-79ce-4752-f2df-2aeaaebd2fee"
      },
      "outputs": [
        {
          "output_type": "stream",
          "name": "stdout",
          "text": [
            "220\n"
          ]
        }
      ],
      "source": [
        "#Foundation of ARTIFICIAL INTELLIGENCE Lab-1 \n",
        "#computer 13\n",
        "# 1. 0-1 Knapsack Problem solving using python\n",
        "\n",
        "# A naive recursive implementation\n",
        "# of 0-1 Knapsack Problem\n",
        "# Returns the maximum value that\n",
        "# can be put in a knapsack of\n",
        "# capacity W\n",
        "def knapSack(W, wt, val, n):\n",
        " \n",
        "    # Base Case\n",
        "    if n == 0 or W == 0:\n",
        "        return 0\n",
        " \n",
        "    # If weight of the nth item is\n",
        "    # more than Knapsack of capacity W,\n",
        "    # then this item cannot be included\n",
        "    # in the optimal solution\n",
        "    if (wt[n-1] > W):\n",
        "        return knapSack(W, wt, val, n-1)\n",
        " \n",
        "    # return the maximum of two cases:\n",
        "    # (1) nth item included\n",
        "    # (2) not included\n",
        "    else:\n",
        "        return max(\n",
        "            val[n-1] + knapSack(\n",
        "                W-wt[n-1], wt, val, n-1),\n",
        "            knapSack(W, wt, val, n-1))\n",
        " \n",
        "# end of function knapSack\n",
        " \n",
        " \n",
        "# Driver Code\n",
        "val = [60, 100, 120]\n",
        "wt = [10, 20, 30]\n",
        "W = 50\n",
        "n = len(val)\n",
        "print (knapSack(W, wt, val, n))\n"
      ]
    }
  ]
}