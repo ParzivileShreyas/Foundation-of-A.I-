{
  "nbformat": 4,
  "nbformat_minor": 0,
  "metadata": {
    "colab": {
      "provenance": []
    },
    "kernelspec": {
      "name": "python3",
      "display_name": "Python 3"
    },
    "language_info": {
      "name": "python"
    }
  },
  "cells": [
    {
      "cell_type": "markdown",
      "source": [
        "# FAI LAB -3\n",
        "CONSTRAINT SATISFACTION PROBLEM"
      ],
      "metadata": {
        "id": "fp_paOLTJgBl"
      }
    },
    {
      "cell_type": "code",
      "source": [
        "domains = {\n",
        "    'A': [1, 2, 3],\n",
        "    'B': [1, 2, 3],\n",
        "    'C': [1, 2, 3]}\n",
        "constraints = {\n",
        "    ('A', 'B'): lambda a, b: a > b,\n",
        "    ('B', 'A'): lambda b, a: b < a,\n",
        "    ('B', 'C'): lambda b, c: b == c,\n",
        "    ('C', 'B'): lambda c, b: c == b,}\n",
        "def revise(x, y):\n",
        "    revised = False\n",
        "    x_domain = domains[x]\n",
        "    y_domain = domains[y]\n",
        "    all_constraints = [\n",
        "        constraint for constraint in constraints if constraint[0] == x and constraint[1] == y]\n",
        "    for x_value in x_domain:\n",
        "        satisfies = False\n",
        "        for y_value in y_domain:\n",
        "            for constraint in all_constraints:\n",
        "                constraint_func = constraints[constraint]\n",
        "                if constraint_func(x_value, y_value):\n",
        "                    satisfies = True\n",
        "        if not satisfies:\n",
        "            x_domain.remove(x_value)\n",
        "            revised = True\n",
        "    return revised\n",
        "def ac3(arcs):\n",
        "    queue = arcs[:]\n",
        "    while queue:\n",
        "        (x, y) = queue.pop(0)\n",
        "        revised = revise(x, y)\n",
        "        if revised:\n",
        "            neighbors = [neighbor for neighbor in arcs if neighbor[1] == x]\n",
        "            queue = queue + neighbors\n",
        "arcs = [('A', 'B'), ('B', 'A'), ('B', 'C'), ('C', 'B')]\n",
        "ac3(arcs)\n",
        "print(domains) # {'A': [2, 3], 'C': [1, 2], 'B': [1, 2]}"
      ],
      "metadata": {
        "colab": {
          "base_uri": "https://localhost:8080/"
        },
        "id": "1sxEOthKJ7UR",
        "outputId": "4ef237a0-ccf9-4dff-9a01-b6839b41f025"
      },
      "execution_count": 6,
      "outputs": [
        {
          "output_type": "stream",
          "name": "stdout",
          "text": [
            "{'A': [2, 3], 'B': [1, 2], 'C': [1, 2]}\n"
          ]
        }
      ]
    }
  ]
}